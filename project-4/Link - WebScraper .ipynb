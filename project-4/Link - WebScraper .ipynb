{
 "cells": [
  {
   "cell_type": "markdown",
   "metadata": {},
   "source": [
    "# Approach\n",
    "\n",
    "- Use selenium to scrape all href links for results to 'data' search on site of choice\n",
    "- Compile a list of links\n",
    "- Iterate through each link to grab the relevant information field\n",
    "- Key info: Job Title, Location, Company, Salary Range, Salary format, Position Seniority, Employment Type, Requirements"
   ]
  },
  {
   "cell_type": "code",
   "execution_count": 1,
   "metadata": {},
   "outputs": [],
   "source": [
    "# Import the world!\n",
    "import os\n",
    "import csv\n",
    "from time import sleep\n",
    "from selenium import webdriver\n",
    "from selenium.webdriver.common.keys import Keys\n",
    "import random\n",
    "import pandas as pd\n"
   ]
  },
  {
   "cell_type": "code",
   "execution_count": 4,
   "metadata": {},
   "outputs": [],
   "source": [
    "# Opening the driver\n",
    "driver = webdriver.Chrome('/Users/paklun/Desktop/materials-master/projects/project-4/chromedriver')"
   ]
  },
  {
   "cell_type": "markdown",
   "metadata": {},
   "source": [
    "## First Pass to retrieve links and region"
   ]
  },
  {
   "cell_type": "code",
   "execution_count": 3,
   "metadata": {},
   "outputs": [
    {
     "name": "stdout",
     "output_type": "stream",
     "text": [
      "Getting page ... 0 ..fetching.. 20 of 20\n",
      "Getting page ... 1 ..fetching.. 40 of 40\n",
      "Getting page ... 2 ..fetching.. 60 of 60\n",
      "Getting page ... 3 ..fetching.. 80 of 80\n",
      "Getting page ... 4 ..fetching.. 100 of 100\n",
      "Getting page ... 5 ..fetching.. 120 of 120\n",
      "Getting page ... 6 ..fetching.. 140 of 140\n",
      "Getting page ... 7 ..fetching.. 160 of 160\n",
      "Getting page ... 8 ..fetching.. 180 of 180\n",
      "Getting page ... 9 ..fetching.. 200 of 200\n",
      "Getting page ... 10 ..fetching.. 220 of 220\n",
      "Getting page ... 11 ..fetching.. 240 of 240\n",
      "Getting page ... 12 ..fetching.. 260 of 260\n",
      "Getting page ... 13 ..fetching.. 280 of 280\n",
      "Getting page ... 14 ..fetching.. 300 of 300\n",
      "Getting page ... 15 ..fetching.. 320 of 320\n",
      "Getting page ... 16 ..fetching.. 340 of 340\n",
      "Getting page ... 17 ..fetching.. 360 of 360\n",
      "Getting page ... 18 ..fetching.. 380 of 380\n",
      "Getting page ... 19 ..fetching.. 400 of 400\n",
      "Getting page ... 20 ..fetching.. 420 of 420\n",
      "Getting page ... 21 ..fetching.. 440 of 440\n",
      "Getting page ... 22 ..fetching.. 460 of 460\n",
      "Getting page ... 23 ..fetching.. 480 of 480\n",
      "Getting page ... 24 ..fetching.. 500 of 500\n",
      "Getting page ... 25 ..fetching.. 520 of 520\n",
      "Getting page ... 26 ..fetching.. 540 of 540\n",
      "Getting page ... 27 ..fetching.. 560 of 560\n",
      "Getting page ... 28 ..fetching.. 580 of 580\n",
      "Getting page ... 29 ..fetching.. 600 of 600\n",
      "Getting page ... 30 ..fetching.. 600 of 600\n",
      "Getting page ... 31 ..fetching.. 600 of 600\n",
      "Getting page ... 32 ..fetching.. 600 of 600\n",
      "Getting page ... 33 ..fetching.. 620 of 620\n",
      "Getting page ... 34 ..fetching.. 640 of 640\n",
      "Getting page ... 35 ..fetching.. 660 of 660\n",
      "Getting page ... 36 ..fetching.. 680 of 680\n",
      "Getting page ... 37 ..fetching.. 700 of 700\n",
      "Getting page ... 38 ..fetching.. 720 of 720\n",
      "Getting page ... 39 ..fetching.. 740 of 740\n",
      "Getting page ... 40 ..fetching.. 760 of 760\n",
      "Getting page ... 41 ..fetching.. 780 of 780\n",
      "Getting page ... 42 ..fetching.. 800 of 800\n",
      "Getting page ... 43 ..fetching.. 820 of 820\n",
      "Getting page ... 44 ..fetching.. 840 of 840\n",
      "Getting page ... 45 ..fetching.. 860 of 860\n",
      "Getting page ... 46 ..fetching.. 880 of 880\n",
      "Getting page ... 47 ..fetching.. 900 of 900\n",
      "Getting page ... 48 ..fetching.. 920 of 920\n",
      "Getting page ... 49 ..fetching.. 940 of 940\n",
      "Getting page ... 50 ..fetching.. 960 of 960\n",
      "Getting page ... 51 ..fetching.. 980 of 980\n",
      "Getting page ... 52 ..fetching.. 1000 of 1000\n",
      "Getting page ... 53 ..fetching.. 1020 of 1020\n",
      "Getting page ... 54 ..fetching.. 1040 of 1040\n",
      "Getting page ... 55 ..fetching.. 1060 of 1060\n",
      "Getting page ... 56 ..fetching.. 1080 of 1080\n",
      "Getting page ... 57 ..fetching.. 1100 of 1100\n",
      "Getting page ... 58 ..fetching.. 1120 of 1120\n",
      "Getting page ... 59 ..fetching.. 1140 of 1140\n",
      "Getting page ... 60 ..fetching.. 1160 of 1160\n",
      "Getting page ... 61 ..fetching.. 1180 of 1180\n",
      "Getting page ... 62 ..fetching.. 1200 of 1200\n",
      "Getting page ... 63 ..fetching.. 1220 of 1220\n",
      "Getting page ... 64 ..fetching.. 1240 of 1240\n",
      "Getting page ... 65 ..fetching.. 1260 of 1260\n",
      "Getting page ... 66 ..fetching.. 1280 of 1280\n",
      "Getting page ... 67 ..fetching.. 1300 of 1300\n",
      "Getting page ... 68 ..fetching.. 1320 of 1320\n",
      "Getting page ... 69 ..fetching.. 1340 of 1340\n",
      "Getting page ... 70 ..fetching.. 1360 of 1360\n",
      "Getting page ... 71 ..fetching.. 1380 of 1380\n",
      "Getting page ... 72 ..fetching.. 1400 of 1400\n",
      "Getting page ... 73 ..fetching.. 1420 of 1420\n",
      "Getting page ... 74 ..fetching.. 1440 of 1440\n",
      "Getting page ... 75 ..fetching.. 1460 of 1460\n",
      "Getting page ... 76 ..fetching.. 1480 of 1480\n",
      "Getting page ... 77 ..fetching.. 1500 of 1500\n",
      "Getting page ... 78 ..fetching.. 1520 of 1520\n",
      "Getting page ... 79 ..fetching.. 1540 of 1540\n",
      "Getting page ... 80 ..fetching.. 1560 of 1560\n",
      "Getting page ... 81 ..fetching.. 1580 of 1580\n",
      "Getting page ... 82 ..fetching.. 1600 of 1600\n",
      "Getting page ... 83 ..fetching.. 1620 of 1620\n",
      "Getting page ... 84 ..fetching.. 1640 of 1640\n",
      "Getting page ... 85 ..fetching.. 1660 of 1660\n",
      "Getting page ... 86 ..fetching.. 1680 of 1680\n",
      "Getting page ... 87 ..fetching.. 1700 of 1700\n",
      "Getting page ... 88 ..fetching.. 1720 of 1720\n",
      "Getting page ... 89 ..fetching.. 1740 of 1740\n",
      "Getting page ... 90 ..fetching.. 1760 of 1760\n",
      "Getting page ... 91 ..fetching.. 1780 of 1780\n",
      "Getting page ... 92 ..fetching.. 1800 of 1800\n",
      "Getting page ... 93 ..fetching.. 1800 of 1817\n",
      "Getting page ... 94 ..fetching.. 1820 of 1837\n",
      "Getting page ... 95 ..fetching.. 1840 of 1857\n",
      "Getting page ... 96 ..fetching.. 1860 of 1877\n",
      "Getting page ... 97 ..fetching.. 1880 of 1897\n",
      "Getting page ... 98 ..fetching.. 1900 of 1917\n",
      "Getting page ... 99 ..fetching.. 1920 of 1937\n",
      "Getting page ... 100 ..fetching.. 1940 of 1957\n",
      "Getting page ... 101 ..fetching.. 1960 of 1977\n",
      "Getting page ... 102 ..fetching.. 1980 of 1997\n",
      "Getting page ... 103 ..fetching.. 2000 of 2017\n",
      "Getting page ... 104 ..fetching.. 2020 of 2037\n",
      "Getting page ... 105 ..fetching.. 2040 of 2057\n",
      "Getting page ... 106 ..fetching.. 2060 of 2077\n",
      "Getting page ... 107 ..fetching.. 2080 of 2097\n",
      "Getting page ... 108 ..fetching.. 2100 of 2117\n",
      "Getting page ... 109 ..fetching.. 2120 of 2137\n",
      "Getting page ... 110 ..fetching.. 2140 of 2157\n",
      "Getting page ... 111 ..fetching.. 2160 of 2177\n",
      "Getting page ... 112 ..fetching.. 2180 of 2197\n",
      "Getting page ... 113 ..fetching.. 2200 of 2217\n",
      "Getting page ... 114 ..fetching.. 2220 of 2237\n",
      "Getting page ... 115 ..fetching.. 2240 of 2257\n",
      "Getting page ... 116 ..fetching.. 2260 of 2277\n",
      "Getting page ... 117 ..fetching.. 2280 of 2297\n",
      "Getting page ... 118 ..fetching.. 2300 of 2317\n",
      "Getting page ... 119 ..fetching.. 2320 of 2337\n",
      "Getting page ... 120 ..fetching.. 2340 of 2357\n",
      "Getting page ... 121 ..fetching.. 2360 of 2377\n",
      "Getting page ... 122 ..fetching.. 2380 of 2397\n",
      "Getting page ... 123 ..fetching.. 2400 of 2417\n",
      "Getting page ... 124 ..fetching.. 2420 of 2437\n",
      "Getting page ... 125 ..fetching.. 2440 of 2457\n",
      "Getting page ... 126 ..fetching.. 2460 of 2477\n"
     ]
    },
    {
     "ename": "KeyboardInterrupt",
     "evalue": "",
     "output_type": "error",
     "traceback": [
      "\u001b[0;31m---------------------------------------------------------------------------\u001b[0m",
      "\u001b[0;31mKeyboardInterrupt\u001b[0m                         Traceback (most recent call last)",
      "\u001b[0;32m<ipython-input-3-5effd55c3f05>\u001b[0m in \u001b[0;36m<module>\u001b[0;34m\u001b[0m\n\u001b[1;32m      5\u001b[0m     \u001b[0mURL\u001b[0m \u001b[0;34m=\u001b[0m \u001b[0;34m\"https://www.mycareersfuture.sg/search?search=Data&sortBy=new_posting_date&page=%d\"\u001b[0m \u001b[0;34m%\u001b[0m \u001b[0mx\u001b[0m\u001b[0;34m\u001b[0m\u001b[0m\n\u001b[1;32m      6\u001b[0m     \u001b[0mdriver\u001b[0m\u001b[0;34m.\u001b[0m\u001b[0mget\u001b[0m\u001b[0;34m(\u001b[0m\u001b[0mURL\u001b[0m\u001b[0;34m)\u001b[0m\u001b[0;34m\u001b[0m\u001b[0m\n\u001b[0;32m----> 7\u001b[0;31m     \u001b[0msleep\u001b[0m\u001b[0;34m(\u001b[0m\u001b[0mrandom\u001b[0m\u001b[0;34m.\u001b[0m\u001b[0mrandint\u001b[0m\u001b[0;34m(\u001b[0m\u001b[0;36m5\u001b[0m\u001b[0;34m,\u001b[0m\u001b[0;36m8\u001b[0m\u001b[0;34m)\u001b[0m\u001b[0;34m)\u001b[0m\u001b[0;34m\u001b[0m\u001b[0m\n\u001b[0m\u001b[1;32m      8\u001b[0m \u001b[0;34m\u001b[0m\u001b[0m\n\u001b[1;32m      9\u001b[0m     \u001b[0;32mfor\u001b[0m \u001b[0mi\u001b[0m \u001b[0;32min\u001b[0m \u001b[0mrange\u001b[0m\u001b[0;34m(\u001b[0m\u001b[0;36m0\u001b[0m\u001b[0;34m,\u001b[0m\u001b[0;36m20\u001b[0m\u001b[0;34m)\u001b[0m\u001b[0;34m:\u001b[0m\u001b[0;34m\u001b[0m\u001b[0m\n",
      "\u001b[0;31mKeyboardInterrupt\u001b[0m: "
     ]
    }
   ],
   "source": [
    "linkslist = []\n",
    "regionlist = []\n",
    "\n",
    "for x in range(0,210):\n",
    "    URL = \"https://www.mycareersfuture.sg/search?search=Data&sortBy=new_posting_date&page=%d\" % x\n",
    "    driver.get(URL)\n",
    "    sleep(random.randint(5,8))\n",
    "    \n",
    "    for i in range(0,20):\n",
    "        jobcard_xpath_iter = '//*[@id=\"job-card-%d\"]/div/a' % i\n",
    "        jobcards = driver.find_elements_by_xpath(jobcard_xpath_iter)\n",
    "        \n",
    "        for jobs in jobcards:\n",
    "            joblink = jobs.get_attribute('href')\n",
    "            linkslist.append(joblink)\n",
    "            \n",
    "    for j in range(0,20):\n",
    "        region_xpath_iter = '//*[@id=\"job-card-%d\"]/div/a/div[1]/div[1]/section/div[2]/div[2]/section/p[1]' % j\n",
    "        regions = driver.find_elements_by_xpath(region_xpath_iter)\n",
    "        \n",
    "        for locale in regions:\n",
    "            region = locale.text\n",
    "            regionlist.append(region)\n",
    "\n",
    "    print('Getting page ... %d' %x ,'..fetching..',len(linkslist),'of',len(regionlist) )"
   ]
  },
  {
   "cell_type": "code",
   "execution_count": null,
   "metadata": {},
   "outputs": [],
   "source": [
    "# Saving to a dataframe\n",
    "\n",
    "linktable = pd.DataFrame({'Links':linkslist,'Region':regionlist})"
   ]
  },
  {
   "cell_type": "code",
   "execution_count": null,
   "metadata": {},
   "outputs": [],
   "source": [
    "# Saving to a csv file\n",
    "\n",
    "linktable.to_csv('Career_Links_new.csv')"
   ]
  },
  {
   "cell_type": "markdown",
   "metadata": {},
   "source": [
    "## Reading into the links to scrape more info"
   ]
  },
  {
   "cell_type": "code",
   "execution_count": null,
   "metadata": {},
   "outputs": [],
   "source": [
    "# IN THE NEXT FILE"
   ]
  },
  {
   "cell_type": "code",
   "execution_count": null,
   "metadata": {},
   "outputs": [],
   "source": [
    "# Closes the driver\n",
    "driver.close()"
   ]
  }
 ],
 "metadata": {
  "kernelspec": {
   "display_name": "Python 3",
   "language": "python",
   "name": "python3"
  },
  "language_info": {
   "codemirror_mode": {
    "name": "ipython",
    "version": 3
   },
   "file_extension": ".py",
   "mimetype": "text/x-python",
   "name": "python",
   "nbconvert_exporter": "python",
   "pygments_lexer": "ipython3",
   "version": "3.6.5"
  }
 },
 "nbformat": 4,
 "nbformat_minor": 2
}

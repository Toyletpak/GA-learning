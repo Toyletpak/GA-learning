{
 "cells": [
  {
   "cell_type": "markdown",
   "metadata": {},
   "source": [
    "## Project 4: Career Prospects In Data"
   ]
  },
  {
   "cell_type": "code",
   "execution_count": 1,
   "metadata": {},
   "outputs": [],
   "source": [
    "import pandas as pd\n",
    "from sklearn.model_selection import train_test_split\n",
    "from sklearn.linear_model import LinearRegression\n",
    "from sklearn import metrics\n",
    "import numpy as np\n",
    "from sklearn.linear_model import Ridge\n",
    "from sklearn.linear_model import RidgeCV\n",
    "from sklearn.linear_model import Lasso\n",
    "from sklearn.linear_model import LassoCV\n",
    "\n",
    "from pprint import pprint\n",
    "import scipy.stats as stats\n",
    "import csv\n",
    "import matplotlib.pyplot as plt\n",
    "import seaborn as sns\n",
    "import math\n",
    "\n",
    "%matplotlib inline\n",
    "%config InlineBackend.figure_format = 'retina'\n",
    "sns.set(style=\"ticks\", color_codes=True)\n"
   ]
  },
  {
   "cell_type": "code",
   "execution_count": 3,
   "metadata": {},
   "outputs": [],
   "source": [
    "jobs = pd.read_csv('/Users/paklun/Desktop/materials-master/projects/project-4/Career_Database.csv')"
   ]
  },
  {
   "cell_type": "code",
   "execution_count": 5,
   "metadata": {},
   "outputs": [
    {
     "data": {
      "text/html": [
       "<div>\n",
       "<style scoped>\n",
       "    .dataframe tbody tr th:only-of-type {\n",
       "        vertical-align: middle;\n",
       "    }\n",
       "\n",
       "    .dataframe tbody tr th {\n",
       "        vertical-align: top;\n",
       "    }\n",
       "\n",
       "    .dataframe thead th {\n",
       "        text-align: right;\n",
       "    }\n",
       "</style>\n",
       "<table border=\"1\" class=\"dataframe\">\n",
       "  <thead>\n",
       "    <tr style=\"text-align: right;\">\n",
       "      <th></th>\n",
       "      <th>Unnamed: 0</th>\n",
       "      <th>Unnamed: 0.1</th>\n",
       "      <th>Links</th>\n",
       "      <th>Region</th>\n",
       "      <th>Company</th>\n",
       "      <th>Title</th>\n",
       "      <th>Employment Type</th>\n",
       "      <th>Seniority</th>\n",
       "      <th>Industry</th>\n",
       "      <th>Salary</th>\n",
       "      <th>Payment</th>\n",
       "      <th>Description</th>\n",
       "      <th>Requirements</th>\n",
       "    </tr>\n",
       "  </thead>\n",
       "  <tbody>\n",
       "    <tr>\n",
       "      <th>0</th>\n",
       "      <td>0</td>\n",
       "      <td>0</td>\n",
       "      <td>https://www.mycareersfuture.sg/job/data-engine...</td>\n",
       "      <td>South</td>\n",
       "      <td>MONEYSMART SINGAPORE PTE. LTD.</td>\n",
       "      <td>Data Engineer</td>\n",
       "      <td>Full Time</td>\n",
       "      <td>Executive</td>\n",
       "      <td>Information Technology</td>\n",
       "      <td>$5,000to$7,000</td>\n",
       "      <td>Monthly</td>\n",
       "      <td>Roles &amp; Responsibilities\\nMission\\nAs part of ...</td>\n",
       "      <td>Requirements\\nCompetencies\\nDegree in Computer...</td>\n",
       "    </tr>\n",
       "    <tr>\n",
       "      <th>1</th>\n",
       "      <td>1</td>\n",
       "      <td>1</td>\n",
       "      <td>https://www.mycareersfuture.sg/job/data-scient...</td>\n",
       "      <td>South</td>\n",
       "      <td>PORTCAST PTE. LTD.</td>\n",
       "      <td>Data Scientist</td>\n",
       "      <td>Full Time</td>\n",
       "      <td>Middle Management</td>\n",
       "      <td>Engineering</td>\n",
       "      <td>$2,200to$6,000</td>\n",
       "      <td>Monthly</td>\n",
       "      <td>Roles &amp; Responsibilities\\nIn this role, you wi...</td>\n",
       "      <td>Requirements\\n●  Comfortable working with larg...</td>\n",
       "    </tr>\n",
       "    <tr>\n",
       "      <th>2</th>\n",
       "      <td>2</td>\n",
       "      <td>2</td>\n",
       "      <td>https://www.mycareersfuture.sg/job/data-visual...</td>\n",
       "      <td>Central</td>\n",
       "      <td>SINGAPORE PRESS HOLDINGS LIMITED</td>\n",
       "      <td>Data Visualisation Designer</td>\n",
       "      <td>Permanent</td>\n",
       "      <td>Junior Executive</td>\n",
       "      <td>Design</td>\n",
       "      <td>$3,500to$4,500</td>\n",
       "      <td>Monthly</td>\n",
       "      <td>Roles &amp; Responsibilities\\nDigital arm of Engli...</td>\n",
       "      <td>Requirements\\nPrior experience in a data visua...</td>\n",
       "    </tr>\n",
       "    <tr>\n",
       "      <th>3</th>\n",
       "      <td>3</td>\n",
       "      <td>3</td>\n",
       "      <td>https://www.mycareersfuture.sg/job/data-analys...</td>\n",
       "      <td>Central</td>\n",
       "      <td>GRABTAXI HOLDINGS PTE. LTD.</td>\n",
       "      <td>Data Analyst</td>\n",
       "      <td>Full Time</td>\n",
       "      <td>Executive</td>\n",
       "      <td>Information Technology</td>\n",
       "      <td>NaN</td>\n",
       "      <td>NaN</td>\n",
       "      <td>Roles &amp; Responsibilities\\nGet to know our Team...</td>\n",
       "      <td>Requirements\\nThe must haves:\\nA Bachelor's/Ma...</td>\n",
       "    </tr>\n",
       "    <tr>\n",
       "      <th>4</th>\n",
       "      <td>4</td>\n",
       "      <td>4</td>\n",
       "      <td>https://www.mycareersfuture.sg/job/data-center...</td>\n",
       "      <td>Central</td>\n",
       "      <td>AMAZON ASIA-PACIFIC RESOURCES PRIVATE LIMITED</td>\n",
       "      <td>Data Center Engineering Project Engineer APAC</td>\n",
       "      <td>Full Time</td>\n",
       "      <td>Professional</td>\n",
       "      <td>Design, Engineering</td>\n",
       "      <td>$9,000to$12,000</td>\n",
       "      <td>Monthly</td>\n",
       "      <td>Roles &amp; Responsibilities\\nThe Data Center Glob...</td>\n",
       "      <td>Requirements\\nBasic Qualifications -\\nMinimum ...</td>\n",
       "    </tr>\n",
       "  </tbody>\n",
       "</table>\n",
       "</div>"
      ],
      "text/plain": [
       "   Unnamed: 0  Unnamed: 0.1  \\\n",
       "0           0             0   \n",
       "1           1             1   \n",
       "2           2             2   \n",
       "3           3             3   \n",
       "4           4             4   \n",
       "\n",
       "                                               Links   Region  \\\n",
       "0  https://www.mycareersfuture.sg/job/data-engine...    South   \n",
       "1  https://www.mycareersfuture.sg/job/data-scient...    South   \n",
       "2  https://www.mycareersfuture.sg/job/data-visual...  Central   \n",
       "3  https://www.mycareersfuture.sg/job/data-analys...  Central   \n",
       "4  https://www.mycareersfuture.sg/job/data-center...  Central   \n",
       "\n",
       "                                         Company  \\\n",
       "0                 MONEYSMART SINGAPORE PTE. LTD.   \n",
       "1                             PORTCAST PTE. LTD.   \n",
       "2               SINGAPORE PRESS HOLDINGS LIMITED   \n",
       "3                    GRABTAXI HOLDINGS PTE. LTD.   \n",
       "4  AMAZON ASIA-PACIFIC RESOURCES PRIVATE LIMITED   \n",
       "\n",
       "                                           Title Employment Type  \\\n",
       "0                                  Data Engineer       Full Time   \n",
       "1                                 Data Scientist       Full Time   \n",
       "2                    Data Visualisation Designer       Permanent   \n",
       "3                                   Data Analyst       Full Time   \n",
       "4  Data Center Engineering Project Engineer APAC       Full Time   \n",
       "\n",
       "           Seniority                Industry           Salary  Payment  \\\n",
       "0          Executive  Information Technology   $5,000to$7,000  Monthly   \n",
       "1  Middle Management             Engineering   $2,200to$6,000  Monthly   \n",
       "2   Junior Executive                  Design   $3,500to$4,500  Monthly   \n",
       "3          Executive  Information Technology              NaN      NaN   \n",
       "4       Professional     Design, Engineering  $9,000to$12,000  Monthly   \n",
       "\n",
       "                                         Description  \\\n",
       "0  Roles & Responsibilities\\nMission\\nAs part of ...   \n",
       "1  Roles & Responsibilities\\nIn this role, you wi...   \n",
       "2  Roles & Responsibilities\\nDigital arm of Engli...   \n",
       "3  Roles & Responsibilities\\nGet to know our Team...   \n",
       "4  Roles & Responsibilities\\nThe Data Center Glob...   \n",
       "\n",
       "                                        Requirements  \n",
       "0  Requirements\\nCompetencies\\nDegree in Computer...  \n",
       "1  Requirements\\n●  Comfortable working with larg...  \n",
       "2  Requirements\\nPrior experience in a data visua...  \n",
       "3  Requirements\\nThe must haves:\\nA Bachelor's/Ma...  \n",
       "4  Requirements\\nBasic Qualifications -\\nMinimum ...  "
      ]
     },
     "execution_count": 5,
     "metadata": {},
     "output_type": "execute_result"
    }
   ],
   "source": [
    "jobs.head(5)"
   ]
  },
  {
   "cell_type": "code",
   "execution_count": 6,
   "metadata": {},
   "outputs": [
    {
     "name": "stdout",
     "output_type": "stream",
     "text": [
      "<class 'pandas.core.frame.DataFrame'>\n",
      "RangeIndex: 4200 entries, 0 to 4199\n",
      "Data columns (total 13 columns):\n",
      "Unnamed: 0         4200 non-null int64\n",
      "Unnamed: 0.1       4200 non-null int64\n",
      "Links              4200 non-null object\n",
      "Region             4200 non-null object\n",
      "Company            4184 non-null object\n",
      "Title              4184 non-null object\n",
      "Employment Type    4185 non-null object\n",
      "Seniority          4120 non-null object\n",
      "Industry           4185 non-null object\n",
      "Salary             3716 non-null object\n",
      "Payment            3716 non-null object\n",
      "Description        4185 non-null object\n",
      "Requirements       4045 non-null object\n",
      "dtypes: int64(2), object(11)\n",
      "memory usage: 426.6+ KB\n"
     ]
    }
   ],
   "source": [
    "jobs.info()"
   ]
  },
  {
   "cell_type": "code",
   "execution_count": 8,
   "metadata": {},
   "outputs": [
    {
     "data": {
      "text/html": [
       "<div>\n",
       "<style scoped>\n",
       "    .dataframe tbody tr th:only-of-type {\n",
       "        vertical-align: middle;\n",
       "    }\n",
       "\n",
       "    .dataframe tbody tr th {\n",
       "        vertical-align: top;\n",
       "    }\n",
       "\n",
       "    .dataframe thead th {\n",
       "        text-align: right;\n",
       "    }\n",
       "</style>\n",
       "<table border=\"1\" class=\"dataframe\">\n",
       "  <thead>\n",
       "    <tr style=\"text-align: right;\">\n",
       "      <th></th>\n",
       "      <th>Unnamed: 0</th>\n",
       "      <th>Unnamed: 0.1</th>\n",
       "    </tr>\n",
       "  </thead>\n",
       "  <tbody>\n",
       "    <tr>\n",
       "      <th>count</th>\n",
       "      <td>4200.000000</td>\n",
       "      <td>4200.000000</td>\n",
       "    </tr>\n",
       "    <tr>\n",
       "      <th>mean</th>\n",
       "      <td>2099.500000</td>\n",
       "      <td>2099.500000</td>\n",
       "    </tr>\n",
       "    <tr>\n",
       "      <th>std</th>\n",
       "      <td>1212.579894</td>\n",
       "      <td>1212.579894</td>\n",
       "    </tr>\n",
       "    <tr>\n",
       "      <th>min</th>\n",
       "      <td>0.000000</td>\n",
       "      <td>0.000000</td>\n",
       "    </tr>\n",
       "    <tr>\n",
       "      <th>25%</th>\n",
       "      <td>1049.750000</td>\n",
       "      <td>1049.750000</td>\n",
       "    </tr>\n",
       "    <tr>\n",
       "      <th>50%</th>\n",
       "      <td>2099.500000</td>\n",
       "      <td>2099.500000</td>\n",
       "    </tr>\n",
       "    <tr>\n",
       "      <th>75%</th>\n",
       "      <td>3149.250000</td>\n",
       "      <td>3149.250000</td>\n",
       "    </tr>\n",
       "    <tr>\n",
       "      <th>max</th>\n",
       "      <td>4199.000000</td>\n",
       "      <td>4199.000000</td>\n",
       "    </tr>\n",
       "  </tbody>\n",
       "</table>\n",
       "</div>"
      ],
      "text/plain": [
       "        Unnamed: 0  Unnamed: 0.1\n",
       "count  4200.000000   4200.000000\n",
       "mean   2099.500000   2099.500000\n",
       "std    1212.579894   1212.579894\n",
       "min       0.000000      0.000000\n",
       "25%    1049.750000   1049.750000\n",
       "50%    2099.500000   2099.500000\n",
       "75%    3149.250000   3149.250000\n",
       "max    4199.000000   4199.000000"
      ]
     },
     "execution_count": 8,
     "metadata": {},
     "output_type": "execute_result"
    }
   ],
   "source": [
    "jobs.describe()"
   ]
  },
  {
   "cell_type": "code",
   "execution_count": 10,
   "metadata": {},
   "outputs": [
    {
     "data": {
      "text/plain": [
       "(4200, 13)"
      ]
     },
     "execution_count": 10,
     "metadata": {},
     "output_type": "execute_result"
    }
   ],
   "source": [
    "jobs.shape"
   ]
  },
  {
   "cell_type": "code",
   "execution_count": 11,
   "metadata": {},
   "outputs": [
    {
     "data": {
      "text/plain": [
       "(4200, 13)"
      ]
     },
     "execution_count": 11,
     "metadata": {},
     "output_type": "execute_result"
    }
   ],
   "source": [
    "jobs.drop_duplicates(inplace=True)\n",
    "jobs.shape"
   ]
  },
  {
   "cell_type": "code",
   "execution_count": null,
   "metadata": {},
   "outputs": [],
   "source": []
  },
  {
   "cell_type": "code",
   "execution_count": null,
   "metadata": {},
   "outputs": [],
   "source": []
  },
  {
   "cell_type": "code",
   "execution_count": null,
   "metadata": {},
   "outputs": [],
   "source": []
  }
 ],
 "metadata": {
  "kernelspec": {
   "display_name": "Python 3",
   "language": "python",
   "name": "python3"
  },
  "language_info": {
   "codemirror_mode": {
    "name": "ipython",
    "version": 3
   },
   "file_extension": ".py",
   "mimetype": "text/x-python",
   "name": "python",
   "nbconvert_exporter": "python",
   "pygments_lexer": "ipython3",
   "version": "3.6.5"
  }
 },
 "nbformat": 4,
 "nbformat_minor": 2
}

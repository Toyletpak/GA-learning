{
 "cells": [
  {
   "cell_type": "markdown",
   "metadata": {},
   "source": [
    "# Approach\n",
    "\n",
    "- Use selenium to scrape all href links for results to 'data' search on site of choice\n",
    "- Compile a list of links\n",
    "- Iterate through each link to grab the relevant information field\n",
    "- Key info: Job Title, Location, Company, Salary Range, Salary format, Position Seniority, Employment Type, Requirements"
   ]
  },
  {
   "cell_type": "code",
   "execution_count": 1,
   "metadata": {},
   "outputs": [],
   "source": [
    "# Import the world!\n",
    "import os\n",
    "import csv\n",
    "from time import sleep\n",
    "from selenium import webdriver\n",
    "from selenium.webdriver.common.keys import Keys\n",
    "import random\n",
    "import pandas as pd\n"
   ]
  },
  {
   "cell_type": "code",
   "execution_count": 2,
   "metadata": {},
   "outputs": [],
   "source": [
    "# Opening the driver\n",
    "driver = webdriver.Chrome('/Users/paklun/Desktop/materials-master/projects/project-4/chromedriver')"
   ]
  },
  {
   "cell_type": "markdown",
   "metadata": {},
   "source": [
    "## First Pass to retrieve links and region"
   ]
  },
  {
   "cell_type": "code",
   "execution_count": 6,
   "metadata": {},
   "outputs": [
    {
     "name": "stdout",
     "output_type": "stream",
     "text": [
      "Getting page ... 0 ..fetching.. 20 of 20\n",
      "Getting page ... 1 ..fetching.. 40 of 40\n",
      "Getting page ... 2 ..fetching.. 60 of 60\n",
      "Getting page ... 3 ..fetching.. 80 of 80\n",
      "Getting page ... 4 ..fetching.. 100 of 100\n"
     ]
    }
   ],
   "source": [
    "linkslist = []\n",
    "regionlist = []\n",
    "\n",
    "for x in range(0,5):\n",
    "    URL = \"https://www.mycareersfuture.sg/search?search=business%20intelligence&sortBy=new_posting_date&page=\" + str(x)\n",
    "    driver.get(URL)\n",
    "    sleep(random.randint(3,5))\n",
    "    \n",
    "    for i in range(0,20):\n",
    "        jobcard_xpath_iter = '//*[@id=\"job-card-%d\"]/div/a' % i\n",
    "        jobcards = driver.find_elements_by_xpath(jobcard_xpath_iter)\n",
    "        \n",
    "        for jobs in jobcards:\n",
    "            joblink = jobs.get_attribute('href')\n",
    "            linkslist.append(joblink)\n",
    "            \n",
    "    for j in range(0,20):\n",
    "        region_xpath_iter = '//*[@id=\"job-card-%d\"]/div/a/div[1]/div[1]/section/div[2]/div[2]/section/p[1]' % j\n",
    "        regions = driver.find_elements_by_xpath(region_xpath_iter)\n",
    "        \n",
    "        for locale in regions:\n",
    "            region = locale.text\n",
    "            regionlist.append(region)\n",
    "\n",
    "    print('Getting page ... %d' %x ,'..fetching..',len(linkslist),'of',len(regionlist) )"
   ]
  },
  {
   "cell_type": "code",
   "execution_count": 7,
   "metadata": {},
   "outputs": [],
   "source": [
    "# Saving to a dataframe\n",
    "\n",
    "linktable = pd.DataFrame({'Links':linkslist,'Region':regionlist})"
   ]
  },
  {
   "cell_type": "code",
   "execution_count": 8,
   "metadata": {},
   "outputs": [],
   "source": [
    "# Saving to a csv file\n",
    "\n",
    "linktable.to_csv('Career_Links_bizint.csv')"
   ]
  },
  {
   "cell_type": "markdown",
   "metadata": {},
   "source": [
    "## Reading into the links to scrape more info"
   ]
  },
  {
   "cell_type": "code",
   "execution_count": null,
   "metadata": {},
   "outputs": [],
   "source": [
    "# IN THE NEXT FILE"
   ]
  },
  {
   "cell_type": "code",
   "execution_count": null,
   "metadata": {},
   "outputs": [],
   "source": [
    "# Closes the driver\n",
    "driver.close()"
   ]
  }
 ],
 "metadata": {
  "kernelspec": {
   "display_name": "Python 3",
   "language": "python",
   "name": "python3"
  },
  "language_info": {
   "codemirror_mode": {
    "name": "ipython",
    "version": 3
   },
   "file_extension": ".py",
   "mimetype": "text/x-python",
   "name": "python",
   "nbconvert_exporter": "python",
   "pygments_lexer": "ipython3",
   "version": "3.6.5"
  }
 },
 "nbformat": 4,
 "nbformat_minor": 2
}
